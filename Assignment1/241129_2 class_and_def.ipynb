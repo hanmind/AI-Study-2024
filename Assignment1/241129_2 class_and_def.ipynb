{
 "cells": [
  {
   "cell_type": "markdown",
   "id": "c0a04074-3bce-4d45-b7ed-90b7eb985459",
   "metadata": {},
   "source": [
    "# 2. 클래스와 함수 사용하기"
   ]
  },
  {
   "cell_type": "markdown",
   "id": "11bfb475-78b0-42aa-8acd-13bdd4e23082",
   "metadata": {},
   "source": [
    "- 클래스 내부에서 정의된 메서드의 첫 번째 매개변수로 **self**를 꼭 적어줘야 한다. **self**는 해당 메서드가 **현재 객체(instance)** 에 속한 속성과 메서드에 접근할 수 있도록 한다."
   ]
  },
  {
   "cell_type": "code",
   "execution_count": 4,
   "id": "a31841b7-6ea4-4c14-9142-2a882796777a",
   "metadata": {},
   "outputs": [],
   "source": [
    "class Person:\n",
    "    def __init__(self):\n",
    "        self.name = str(input(\"이름: \"))\n",
    "        # 성별 유효성 검사\n",
    "        while True:\n",
    "            self.gender = input(\"성별: \").lower() # lower(): MALE, Female 등 자동 처리\n",
    "            if self.gender in [\"male\", \"female\"]:\n",
    "                break\n",
    "            print(\"잘못된 입력입니다. male/female로 대답해주세요.\")\n",
    "        # 나이 유효성 검사\n",
    "        while True:\n",
    "            try:\n",
    "                self.age = int(input(\"나이: \")) #나이를 정수화\n",
    "                break\n",
    "            except ValueError: #나이가 숫자가 아닐 경우, 재입력 안내\n",
    "                print(\"잘못된 입력입니다. 숫자로 대답해주세요.\")\n",
    "    # 이름, 성별, 나이 출력\n",
    "    def display(self):\n",
    "        print(f\"이름: {self.name}, 성별: {self.gender}\\n나이: {self.age}\")\n",
    "    # 20세를 기준으로 미성년자, 성인 구분하여 인사\n",
    "    def greet(self):\n",
    "        if self.age < 20: # 20세 미만일 경우\n",
    "            print(f\"안녕하세요, {self.name}! 미성년자이시군요!\")\n",
    "        else: # 20세 이상일 경우\n",
    "            print(f\"안녕하세요, {self.name}! 성인이시군요!\")"
   ]
  },
  {
   "cell_type": "code",
   "execution_count": 5,
   "id": "95c7bf38-cd31-45a8-a2fc-e81dd9bf47d6",
   "metadata": {},
   "outputs": [
    {
     "name": "stdout",
     "output_type": "stream",
     "text": [
      "이름:  Sadie\n",
      "성별:  여자\n"
     ]
    },
    {
     "name": "stdout",
     "output_type": "stream",
     "text": [
      "잘못된 입력입니다. male/female로 대답해주세요.\n"
     ]
    },
    {
     "name": "stdout",
     "output_type": "stream",
     "text": [
      "성별:  Female\n",
      "나이:  서른\n"
     ]
    },
    {
     "name": "stdout",
     "output_type": "stream",
     "text": [
      "잘못된 입력입니다. 숫자로 대답해주세요.\n"
     ]
    },
    {
     "name": "stdout",
     "output_type": "stream",
     "text": [
      "나이:  30\n"
     ]
    }
   ],
   "source": [
    "p1 = Person()"
   ]
  },
  {
   "cell_type": "code",
   "execution_count": 6,
   "id": "d0ccf8fb-9470-47e0-9dbe-351899dea524",
   "metadata": {},
   "outputs": [
    {
     "name": "stdout",
     "output_type": "stream",
     "text": [
      "이름: Sadie, 성별: female\n",
      "나이: 30\n"
     ]
    }
   ],
   "source": [
    "p1.display()"
   ]
  },
  {
   "cell_type": "code",
   "execution_count": 7,
   "id": "29b0c2a2-2ec8-43ea-b77e-140349a48c43",
   "metadata": {},
   "outputs": [
    {
     "name": "stdout",
     "output_type": "stream",
     "text": [
      "안녕하세요, Sadie! 성인이시군요!\n"
     ]
    }
   ],
   "source": [
    "p1.greet()"
   ]
  }
 ],
 "metadata": {
  "kernelspec": {
   "display_name": "Python 3 (ipykernel)",
   "language": "python",
   "name": "python3"
  },
  "language_info": {
   "codemirror_mode": {
    "name": "ipython",
    "version": 3
   },
   "file_extension": ".py",
   "mimetype": "text/x-python",
   "name": "python",
   "nbconvert_exporter": "python",
   "pygments_lexer": "ipython3",
   "version": "3.12.7"
  }
 },
 "nbformat": 4,
 "nbformat_minor": 5
}
