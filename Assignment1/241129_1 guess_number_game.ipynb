{
 "cells": [
  {
   "cell_type": "markdown",
   "id": "f27ebb43-538a-486c-a1a2-acd3d7c35bdd",
   "metadata": {},
   "source": [
    "# 1. 숫자 맞히기 게임 "
   ]
  },
  {
   "cell_type": "code",
   "execution_count": 1,
   "id": "587060ef-c2a3-48b6-bb4c-2f3869f95a82",
   "metadata": {},
   "outputs": [],
   "source": [
    "import random as rd"
   ]
  },
  {
   "cell_type": "code",
   "execution_count": null,
   "id": "eeb1fa62-cad1-42cc-8f55-6dba6a9036d2",
   "metadata": {},
   "outputs": [],
   "source": [
    "def game():\n",
    "    # 게임 시작\n",
    "    while True:    \n",
    "        number = rd.randrange(1,11) # random number in [1, 11)\n",
    "        print(\"1과 10 사이의 숫자를 하나 정했습니다.\")\n",
    "        print(\"이 숫자는 무엇일까요?\")\n",
    "        while True:\n",
    "            try:\n",
    "                answer = int(input(\"예상 숫자: \")) # int(): convert str to int\n",
    "                if 1 <= answer <= 10:\n",
    "                    if answer > number:\n",
    "                        print(\"너무 큽니다. 다시 입력하세요.\")\n",
    "                    elif answer < number:\n",
    "                        print(\"너무 작습니다. 다시 입력하세요.\")\n",
    "                    elif answer == number:\n",
    "                        print(\"정답입니다!\")\n",
    "                        break\n",
    "                else:\n",
    "                    print(\"1과 10 사이의 숫자를 입력하여야 합니다.\")\n",
    "            except ValueError:\n",
    "               print(\"1과 10 사이의 숫자를 입력하여야 합니다.\")\n",
    "    \n",
    "        # 재시작 여부 확인\n",
    "        while True:\n",
    "            retry = input(\"게임을 다시 하시겠습니까? (y/n): \")\n",
    "            if retry.lower() == \"y\": # .lower(): Y/y 모두 처리\n",
    "                break # 게임 재시작\n",
    "            elif retry.lower() == \"n\":\n",
    "                print(\"게임을 종료합니다. 즐거우셨나요? 또 만나요!\")\n",
    "                return # return: 실행 중인 함수를 즉시 종료. 함수 호출 지점으로 되돌아감\n",
    "            else:\n",
    "                print(\"잘못된 입력입니다. y/n으로 대답해주세요.\")"
   ]
  },
  {
   "cell_type": "code",
   "execution_count": 3,
   "id": "6a450661-5bcf-41a9-b239-cb732ce75a2b",
   "metadata": {},
   "outputs": [
    {
     "name": "stdout",
     "output_type": "stream",
     "text": [
      "1과 10 사이의 숫자를 하나 정했습니다.\n",
      "이 숫자는 무엇일까요?\n"
     ]
    },
    {
     "name": "stdout",
     "output_type": "stream",
     "text": [
      "예상 숫자:  스물\n"
     ]
    },
    {
     "name": "stdout",
     "output_type": "stream",
     "text": [
      "1과 10 사이의 숫자를 입력하여야 합니다.\n"
     ]
    },
    {
     "name": "stdout",
     "output_type": "stream",
     "text": [
      "예상 숫자:  20\n"
     ]
    },
    {
     "name": "stdout",
     "output_type": "stream",
     "text": [
      "1과 10 사이의 숫자를 입력하여야 합니다.\n"
     ]
    },
    {
     "name": "stdout",
     "output_type": "stream",
     "text": [
      "예상 숫자:  5\n"
     ]
    },
    {
     "name": "stdout",
     "output_type": "stream",
     "text": [
      "너무 큽니다. 다시 입력하세요.\n"
     ]
    },
    {
     "name": "stdout",
     "output_type": "stream",
     "text": [
      "예상 숫자:  3\n"
     ]
    },
    {
     "name": "stdout",
     "output_type": "stream",
     "text": [
      "너무 큽니다. 다시 입력하세요.\n"
     ]
    },
    {
     "name": "stdout",
     "output_type": "stream",
     "text": [
      "예상 숫자:  1\n"
     ]
    },
    {
     "name": "stdout",
     "output_type": "stream",
     "text": [
      "정답입니다!\n"
     ]
    },
    {
     "name": "stdout",
     "output_type": "stream",
     "text": [
      "게임을 다시 하시겠습니까? (y/n):  응\n"
     ]
    },
    {
     "name": "stdout",
     "output_type": "stream",
     "text": [
      "잘못된 입력입니다. y/n으로 대답해주세요.\n"
     ]
    },
    {
     "name": "stdout",
     "output_type": "stream",
     "text": [
      "게임을 다시 하시겠습니까? (y/n):  Y\n"
     ]
    },
    {
     "name": "stdout",
     "output_type": "stream",
     "text": [
      "1과 10 사이의 숫자를 하나 정했습니다.\n",
      "이 숫자는 무엇일까요?\n"
     ]
    },
    {
     "name": "stdout",
     "output_type": "stream",
     "text": [
      "예상 숫자:  5\n"
     ]
    },
    {
     "name": "stdout",
     "output_type": "stream",
     "text": [
      "너무 작습니다. 다시 입력하세요.\n"
     ]
    },
    {
     "name": "stdout",
     "output_type": "stream",
     "text": [
      "예상 숫자:  8\n"
     ]
    },
    {
     "name": "stdout",
     "output_type": "stream",
     "text": [
      "너무 큽니다. 다시 입력하세요.\n"
     ]
    },
    {
     "name": "stdout",
     "output_type": "stream",
     "text": [
      "예상 숫자:  7\n"
     ]
    },
    {
     "name": "stdout",
     "output_type": "stream",
     "text": [
      "정답입니다!\n"
     ]
    },
    {
     "name": "stdout",
     "output_type": "stream",
     "text": [
      "게임을 다시 하시겠습니까? (y/n):  n\n"
     ]
    },
    {
     "name": "stdout",
     "output_type": "stream",
     "text": [
      "게임을 종료합니다. 즐거우셨나요? 또 만나요!\n"
     ]
    }
   ],
   "source": [
    "# 게임 실행\n",
    "game()"
   ]
  }
 ],
 "metadata": {
  "kernelspec": {
   "display_name": "Python 3 (ipykernel)",
   "language": "python",
   "name": "python3"
  },
  "language_info": {
   "codemirror_mode": {
    "name": "ipython",
    "version": 3
   },
   "file_extension": ".py",
   "mimetype": "text/x-python",
   "name": "python",
   "nbconvert_exporter": "python",
   "pygments_lexer": "ipython3",
   "version": "3.12.7"
  }
 },
 "nbformat": 4,
 "nbformat_minor": 5
}
