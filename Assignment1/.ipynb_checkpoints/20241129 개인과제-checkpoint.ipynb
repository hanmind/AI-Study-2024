{
 "cells": [
  {
   "cell_type": "code",
   "execution_count": 1,
   "id": "a6a92224-ef24-432a-8918-d7c538fa92a1",
   "metadata": {},
   "outputs": [],
   "source": [
    "# 1. 숫자 맞히기 게임 "
   ]
  },
  {
   "cell_type": "code",
   "execution_count": 2,
   "id": "587060ef-c2a3-48b6-bb4c-2f3869f95a82",
   "metadata": {},
   "outputs": [],
   "source": [
    "import random as rd"
   ]
  },
  {
   "cell_type": "code",
   "execution_count": null,
   "id": "eeb1fa62-cad1-42cc-8f55-6dba6a9036d2",
   "metadata": {},
   "outputs": [],
   "source": [
    "def game():\n",
    "    # 게임 시작\n",
    "    while True:    \n",
    "        number = rd.randrange(1,11) # random number in [1, 11)\n",
    "        print(\"1과 10 사이의 숫자를 하나 정했습니다.\")\n",
    "        print(\"이 숫자는 무엇일까요?\")\n",
    "        while True:\n",
    "            try:\n",
    "                answer = int(input(\"예상 숫자: \")) # int(): convert str to int\n",
    "                if answer >= 1 and answer <= 10:\n",
    "                    if answer > number:\n",
    "                        print(\"너무 큽니다. 다시 입력하세요.\")\n",
    "                        continue\n",
    "                    elif answer < number:\n",
    "                        print(\"너무 작습니다. 다시 입력하세요.\")\n",
    "                        continue\n",
    "                    elif answer == number:\n",
    "                        print(\"정답입니다!\")\n",
    "                        break\n",
    "                else:\n",
    "                    print(\"1과 10 사이의 숫자를 입력하여야 합니다.\")\n",
    "                    continue\n",
    "            except:\n",
    "               print(\"1과 10 사이의 숫자를 입력하여야 합니다.\")\n",
    "    \n",
    "        # 재시작 여부 확인\n",
    "        while True:\n",
    "            retry = input(\"게임을 다시 하시겠습니까? (y/n): \")\n",
    "            if retry == \"Y\" or retry == \"y\":\n",
    "                break\n",
    "            elif retry == \"N\" or retry == \"n\":\n",
    "                print(\"게임을 종료합니다. 즐거우셨나요? 또 만나요!\")\n",
    "                return # return: 실행 중인 함수를 즉시 종료. 함수 호출 지점으로 되돌아갑\n",
    "            else:\n",
    "                print(\"잘못된 입력입니다. Y/N 또는 y/n으로 대답해주세요.\")\n",
    "                continue"
   ]
  },
  {
   "cell_type": "code",
   "execution_count": null,
   "id": "6a450661-5bcf-41a9-b239-cb732ce75a2b",
   "metadata": {},
   "outputs": [],
   "source": [
    "game"
   ]
  },
  {
   "cell_type": "code",
   "execution_count": null,
   "id": "bcd1ecfc-298d-492c-a3c8-3afcf5d889ef",
   "metadata": {},
   "outputs": [],
   "source": []
  }
 ],
 "metadata": {
  "kernelspec": {
   "display_name": "pandas_course",
   "language": "python",
   "name": "pandas_course"
  },
  "language_info": {
   "codemirror_mode": {
    "name": "ipython",
    "version": 3
   },
   "file_extension": ".py",
   "mimetype": "text/x-python",
   "name": "python",
   "nbconvert_exporter": "python",
   "pygments_lexer": "ipython3",
   "version": "3.9.20"
  }
 },
 "nbformat": 4,
 "nbformat_minor": 5
}
